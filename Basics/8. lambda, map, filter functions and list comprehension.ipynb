{
 "cells": [
  {
   "cell_type": "markdown",
   "id": "bd062cee",
   "metadata": {},
   "source": [
    "# Lambda function \n",
    "> In Python, a lambda function, also known as an anonymous function, is a way to create small, one-line functions without explicitly defining a function using the def keyword.\n",
    "\n",
    "\n",
    "`lambda arguments: expression`\n"
   ]
  },
  {
   "cell_type": "code",
   "execution_count": 3,
   "id": "d88d95eb",
   "metadata": {},
   "outputs": [
    {
     "data": {
      "text/plain": [
       "16"
      ]
     },
     "execution_count": 3,
     "metadata": {},
     "output_type": "execute_result"
    }
   ],
   "source": [
    "square = lambda x: x**2\n",
    "square(4)"
   ]
  },
  {
   "cell_type": "code",
   "execution_count": 4,
   "id": "ca888f31",
   "metadata": {},
   "outputs": [
    {
     "data": {
      "text/plain": [
       "10"
      ]
     },
     "execution_count": 4,
     "metadata": {},
     "output_type": "execute_result"
    }
   ],
   "source": [
    "add = lambda x, y: x + y\n",
    "add(4,6)"
   ]
  },
  {
   "cell_type": "code",
   "execution_count": 7,
   "id": "e325dff2",
   "metadata": {},
   "outputs": [
    {
     "name": "stdout",
     "output_type": "stream",
     "text": [
      "True\n",
      "False\n"
     ]
    }
   ],
   "source": [
    "iseven = lambda x:x%2==0\n",
    "print(iseven(4))\n",
    "print(iseven(5))"
   ]
  },
  {
   "cell_type": "markdown",
   "id": "e4d896f7",
   "metadata": {},
   "source": [
    "# Map function\n",
    "> The `map()` function is a built-in function that allows you to apply a given function to each item in an iterable \n",
    "\n",
    "`map(function, iterable)\n",
    "`"
   ]
  },
  {
   "cell_type": "code",
   "execution_count": 8,
   "id": "37d883d5",
   "metadata": {},
   "outputs": [
    {
     "name": "stdout",
     "output_type": "stream",
     "text": [
      "[1, 4, 9, 16, 25]\n"
     ]
    }
   ],
   "source": [
    "numbers = [1, 2, 3, 4, 5]\n",
    "squared_numbers = list(map(lambda x: x**2, numbers))\n",
    "print(squared_numbers)"
   ]
  },
  {
   "cell_type": "markdown",
   "id": "c05423c3",
   "metadata": {},
   "source": [
    "# Filter function\n",
    "> The filter() function is a built-in function that allows you to filter elements from an iterable (e.g., a list, tuple, or string) based on a specified condition. \n",
    "> It returns an iterator containing the elements for which the condition is True.\n",
    "\n",
    "`filter(function, iterable)`"
   ]
  },
  {
   "cell_type": "code",
   "execution_count": 9,
   "id": "1294d639",
   "metadata": {},
   "outputs": [
    {
     "name": "stdout",
     "output_type": "stream",
     "text": [
      "[2, 4]\n"
     ]
    }
   ],
   "source": [
    "numbers = [1, 2, 3, 4, 5]\n",
    "\n",
    "even_numbers = list(filter(lambda x: x % 2 == 0, numbers))\n",
    "print(even_numbers)\n"
   ]
  },
  {
   "cell_type": "markdown",
   "id": "81e61e67",
   "metadata": {},
   "source": [
    "# List comprehension\n",
    "> List comprehension is a concise and expressive way to create lists in Python. It allows you to define a list by specifying a single expression and an optional condition, eliminating the need for traditional loops and explicit append operations.\n",
    "\n",
    "`[expression for item in iterable if condition]\n",
    "`"
   ]
  },
  {
   "cell_type": "code",
   "execution_count": 12,
   "id": "6141185a",
   "metadata": {},
   "outputs": [
    {
     "data": {
      "text/plain": [
       "[0, 2, 4, 6, 8, 10]"
      ]
     },
     "execution_count": 12,
     "metadata": {},
     "output_type": "execute_result"
    }
   ],
   "source": [
    "# list of even numbers\n",
    "even_num = [x for x in range(0,11) if x%2==0]\n",
    "even_num"
   ]
  },
  {
   "cell_type": "code",
   "execution_count": 13,
   "id": "f7de54ca",
   "metadata": {},
   "outputs": [
    {
     "name": "stdout",
     "output_type": "stream",
     "text": [
      "[4, 16, 36, 64, 100]\n"
     ]
    }
   ],
   "source": [
    "# a list of squares of even numbers\n",
    "squares_of_evens = [x**2 for x in range(1, 11) if x % 2 == 0]\n",
    "print(squares_of_evens)\n"
   ]
  },
  {
   "cell_type": "code",
   "execution_count": null,
   "id": "c6e9c8d5",
   "metadata": {},
   "outputs": [],
   "source": []
  }
 ],
 "metadata": {
  "kernelspec": {
   "display_name": "Python 3 (ipykernel)",
   "language": "python",
   "name": "python3"
  },
  "language_info": {
   "codemirror_mode": {
    "name": "ipython",
    "version": 3
   },
   "file_extension": ".py",
   "mimetype": "text/x-python",
   "name": "python",
   "nbconvert_exporter": "python",
   "pygments_lexer": "ipython3",
   "version": "3.10.7"
  }
 },
 "nbformat": 4,
 "nbformat_minor": 5
}

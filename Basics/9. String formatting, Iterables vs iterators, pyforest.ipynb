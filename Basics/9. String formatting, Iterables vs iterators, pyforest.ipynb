{
 "cells": [
  {
   "cell_type": "markdown",
   "id": "5a40e6df",
   "metadata": {},
   "source": [
    "# String Formatting\n",
    "> 1. Using the % operator\n",
    "> 2. Using the str.format() method\n",
    "> 3. Using f-strings (formatted string literals)"
   ]
  },
  {
   "cell_type": "markdown",
   "id": "e5904c22",
   "metadata": {},
   "source": [
    "### Using the % operator"
   ]
  },
  {
   "cell_type": "code",
   "execution_count": 1,
   "id": "60df0c95",
   "metadata": {},
   "outputs": [
    {
     "name": "stdout",
     "output_type": "stream",
     "text": [
      "My name is Nayan and I am 20 years old.\n"
     ]
    }
   ],
   "source": [
    "import pandas as pd\n",
    "import seaborn as sns\n",
    "# ^^^ pyforest auto-imports - don't write above this line\n",
    "name = \"Nayan\"\n",
    "age = 20\n",
    "formatted_string = \"My name is %s and I am %d years old.\" % (name, age)\n",
    "print(formatted_string)"
   ]
  },
  {
   "cell_type": "markdown",
   "id": "d937eb3b",
   "metadata": {},
   "source": [
    "### Using the str.format() method"
   ]
  },
  {
   "cell_type": "code",
   "execution_count": 2,
   "id": "6ac21389",
   "metadata": {},
   "outputs": [
    {
     "data": {
      "text/plain": [
       "'My name is Nayan and I am 20 years old'"
      ]
     },
     "execution_count": 2,
     "metadata": {},
     "output_type": "execute_result"
    }
   ],
   "source": [
    "formatted_string = \"My name is {} and I am {} years old\".format(name,age)\n",
    "formatted_string"
   ]
  },
  {
   "cell_type": "markdown",
   "id": "617a18e7",
   "metadata": {},
   "source": [
    "### Using f-strings (formatted string literals)"
   ]
  },
  {
   "cell_type": "code",
   "execution_count": 3,
   "id": "9ae113b4",
   "metadata": {},
   "outputs": [
    {
     "data": {
      "text/plain": [
       "'My name is Nayan and I am 20 years old.'"
      ]
     },
     "execution_count": 3,
     "metadata": {},
     "output_type": "execute_result"
    }
   ],
   "source": [
    "formatted_string = f\"My name is {name} and I am {age} years old.\"\n",
    "formatted_string"
   ]
  },
  {
   "cell_type": "markdown",
   "id": "41c1bce2",
   "metadata": {},
   "source": [
    "# Iterable vs Iterators\n",
    "\n",
    "> An `iterable` is any object in Python that can be looped over, meaning it can be used in a for loop. \n",
    "> > eg. list, dictionary, tuple\n",
    "\n",
    "---\n",
    "\n",
    "> - An `iterator`, on the other hand, is an object that represents a stream of data. \n",
    "> - It is used to iterate over the elements of an iterable sequentially. \n",
    "> - Iterators provide a way to access the elements of an iterable one at a time, without needing to store all the elements in memory.\n",
    "> - Iterators have two main methods: __iter__() and __next__()"
   ]
  },
  {
   "cell_type": "code",
   "execution_count": 4,
   "id": "0e75b356",
   "metadata": {},
   "outputs": [
    {
     "name": "stdout",
     "output_type": "stream",
     "text": [
      "1\n",
      "2\n",
      "3\n"
     ]
    }
   ],
   "source": [
    "numbers = [1, 2, 3, 4, 5]\n",
    "numbers_iterator = iter(numbers)\n",
    "\n",
    "print(next(numbers_iterator))\n",
    "print(next(numbers_iterator))\n",
    "print(next(numbers_iterator))\n"
   ]
  },
  {
   "cell_type": "markdown",
   "id": "d0840c04",
   "metadata": {},
   "source": [
    "# Pyforest\n",
    "###### Import all Important libraries for data science\n",
    "> Pyforest is a Python library designed to simplify the process of importing and working with popular data science libraries. It aims to provide a convenient way to automatically import commonly used libraries without the need to manually import them one by one.\n",
    "\n",
    "`pip install pyforest`"
   ]
  },
  {
   "cell_type": "code",
   "execution_count": 1,
   "id": "b64deee9",
   "metadata": {},
   "outputs": [
    {
     "data": {
      "application/javascript": [
       "\n",
       "        if (window._pyforest_update_imports_cell) { window._pyforest_update_imports_cell('import pandas as pd'); }\n",
       "    "
      ],
      "text/plain": [
       "<IPython.core.display.Javascript object>"
      ]
     },
     "metadata": {},
     "output_type": "display_data"
    },
    {
     "data": {
      "text/html": [
       "<div>\n",
       "<style scoped>\n",
       "    .dataframe tbody tr th:only-of-type {\n",
       "        vertical-align: middle;\n",
       "    }\n",
       "\n",
       "    .dataframe tbody tr th {\n",
       "        vertical-align: top;\n",
       "    }\n",
       "\n",
       "    .dataframe thead th {\n",
       "        text-align: right;\n",
       "    }\n",
       "</style>\n",
       "<table border=\"1\" class=\"dataframe\">\n",
       "  <thead>\n",
       "    <tr style=\"text-align: right;\">\n",
       "      <th></th>\n",
       "      <th>Unnamed: 0</th>\n",
       "      <th>0</th>\n",
       "      <th>1</th>\n",
       "      <th>2</th>\n",
       "      <th>3</th>\n",
       "      <th>4</th>\n",
       "      <th>5</th>\n",
       "      <th>6</th>\n",
       "      <th>7</th>\n",
       "      <th>8</th>\n",
       "      <th>9</th>\n",
       "      <th>10</th>\n",
       "      <th>11</th>\n",
       "      <th>12</th>\n",
       "      <th>13</th>\n",
       "    </tr>\n",
       "  </thead>\n",
       "  <tbody>\n",
       "    <tr>\n",
       "      <th>0</th>\n",
       "      <td>0</td>\n",
       "      <td>1</td>\n",
       "      <td>14.23</td>\n",
       "      <td>1.71</td>\n",
       "      <td>2.43</td>\n",
       "      <td>15.6</td>\n",
       "      <td>127</td>\n",
       "      <td>2.80</td>\n",
       "      <td>3.06</td>\n",
       "      <td>0.28</td>\n",
       "      <td>2.29</td>\n",
       "      <td>5.64</td>\n",
       "      <td>1.04</td>\n",
       "      <td>3.92</td>\n",
       "      <td>1065</td>\n",
       "    </tr>\n",
       "    <tr>\n",
       "      <th>1</th>\n",
       "      <td>1</td>\n",
       "      <td>1</td>\n",
       "      <td>13.20</td>\n",
       "      <td>1.78</td>\n",
       "      <td>2.14</td>\n",
       "      <td>11.2</td>\n",
       "      <td>100</td>\n",
       "      <td>2.65</td>\n",
       "      <td>2.76</td>\n",
       "      <td>0.26</td>\n",
       "      <td>1.28</td>\n",
       "      <td>4.38</td>\n",
       "      <td>1.05</td>\n",
       "      <td>3.40</td>\n",
       "      <td>1050</td>\n",
       "    </tr>\n",
       "    <tr>\n",
       "      <th>2</th>\n",
       "      <td>2</td>\n",
       "      <td>1</td>\n",
       "      <td>13.16</td>\n",
       "      <td>2.36</td>\n",
       "      <td>2.67</td>\n",
       "      <td>18.6</td>\n",
       "      <td>101</td>\n",
       "      <td>2.80</td>\n",
       "      <td>3.24</td>\n",
       "      <td>0.30</td>\n",
       "      <td>2.81</td>\n",
       "      <td>5.68</td>\n",
       "      <td>1.03</td>\n",
       "      <td>3.17</td>\n",
       "      <td>1185</td>\n",
       "    </tr>\n",
       "    <tr>\n",
       "      <th>3</th>\n",
       "      <td>3</td>\n",
       "      <td>1</td>\n",
       "      <td>14.37</td>\n",
       "      <td>1.95</td>\n",
       "      <td>2.50</td>\n",
       "      <td>16.8</td>\n",
       "      <td>113</td>\n",
       "      <td>3.85</td>\n",
       "      <td>3.49</td>\n",
       "      <td>0.24</td>\n",
       "      <td>2.18</td>\n",
       "      <td>7.80</td>\n",
       "      <td>0.86</td>\n",
       "      <td>3.45</td>\n",
       "      <td>1480</td>\n",
       "    </tr>\n",
       "    <tr>\n",
       "      <th>4</th>\n",
       "      <td>4</td>\n",
       "      <td>1</td>\n",
       "      <td>13.24</td>\n",
       "      <td>2.59</td>\n",
       "      <td>2.87</td>\n",
       "      <td>21.0</td>\n",
       "      <td>118</td>\n",
       "      <td>2.80</td>\n",
       "      <td>2.69</td>\n",
       "      <td>0.39</td>\n",
       "      <td>1.82</td>\n",
       "      <td>4.32</td>\n",
       "      <td>1.04</td>\n",
       "      <td>2.93</td>\n",
       "      <td>735</td>\n",
       "    </tr>\n",
       "  </tbody>\n",
       "</table>\n",
       "</div>"
      ],
      "text/plain": [
       "   Unnamed: 0  0      1     2     3     4    5     6     7     8     9    10  \\\n",
       "0           0  1  14.23  1.71  2.43  15.6  127  2.80  3.06  0.28  2.29  5.64   \n",
       "1           1  1  13.20  1.78  2.14  11.2  100  2.65  2.76  0.26  1.28  4.38   \n",
       "2           2  1  13.16  2.36  2.67  18.6  101  2.80  3.24  0.30  2.81  5.68   \n",
       "3           3  1  14.37  1.95  2.50  16.8  113  3.85  3.49  0.24  2.18  7.80   \n",
       "4           4  1  13.24  2.59  2.87  21.0  118  2.80  2.69  0.39  1.82  4.32   \n",
       "\n",
       "     11    12    13  \n",
       "0  1.04  3.92  1065  \n",
       "1  1.05  3.40  1050  \n",
       "2  1.03  3.17  1185  \n",
       "3  0.86  3.45  1480  \n",
       "4  1.04  2.93   735  "
      ]
     },
     "execution_count": 1,
     "metadata": {},
     "output_type": "execute_result"
    }
   ],
   "source": [
    "data = pd.read_csv('wine.csv')\n",
    "data.head()"
   ]
  },
  {
   "cell_type": "code",
   "execution_count": 2,
   "id": "00171c2a",
   "metadata": {},
   "outputs": [
    {
     "name": "stdout",
     "output_type": "stream",
     "text": [
      "import pandas as pd\n"
     ]
    },
    {
     "data": {
      "text/plain": [
       "['import pandas as pd']"
      ]
     },
     "execution_count": 2,
     "metadata": {},
     "output_type": "execute_result"
    }
   ],
   "source": [
    "active_imports()"
   ]
  },
  {
   "cell_type": "code",
   "execution_count": null,
   "id": "5d5fb679",
   "metadata": {},
   "outputs": [],
   "source": []
  }
 ],
 "metadata": {
  "kernelspec": {
   "display_name": "Python 3 (ipykernel)",
   "language": "python",
   "name": "python3"
  },
  "language_info": {
   "codemirror_mode": {
    "name": "ipython",
    "version": 3
   },
   "file_extension": ".py",
   "mimetype": "text/x-python",
   "name": "python",
   "nbconvert_exporter": "python",
   "pygments_lexer": "ipython3",
   "version": "3.10.7"
  }
 },
 "nbformat": 4,
 "nbformat_minor": 5
}

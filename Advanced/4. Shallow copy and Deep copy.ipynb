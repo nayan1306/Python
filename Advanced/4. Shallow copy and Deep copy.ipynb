{
 "cells": [
  {
   "cell_type": "markdown",
   "id": "8a07ec61",
   "metadata": {},
   "source": [
    "# Shallow Copy:\n",
    " \n",
    "- A shallow copy creates a new object but references the same elements as the original object.\n",
    "- It creates a new container object, but the elements inside the container are still referenced from the original object.\n",
    "- `Changes made to the elements in the shallow copy will be reflected in the original object, and vice versa.`\n",
    "- The copy() method from the copy module or the slice operator [:] can be used to create shallow copies of objects."
   ]
  },
  {
   "cell_type": "code",
   "execution_count": 1,
   "id": "346fed12",
   "metadata": {},
   "outputs": [
    {
     "name": "stdout",
     "output_type": "stream",
     "text": [
      "[1, 2, 3, [4, 5]]\n",
      "[1, 2, 3, [4, 5]]\n",
      "[1, 2, 3, [4, 5, 6]]\n",
      "[1, 2, 3, [4, 5, 6]]\n"
     ]
    }
   ],
   "source": [
    "import copy\n",
    "\n",
    "original_list = [1, 2, 3, [4, 5]]\n",
    "shallow_copy = copy.copy(original_list)\n",
    "\n",
    "print(original_list)     \n",
    "print(shallow_copy)      \n",
    "\n",
    "# Modifying an element in the shallow copy\n",
    "shallow_copy[3].append(6)\n",
    "\n",
    "print(original_list)     \n",
    "print(shallow_copy)      \n"
   ]
  },
  {
   "cell_type": "markdown",
   "id": "954327ff",
   "metadata": {},
   "source": [
    "# Deep Copy:\n",
    "\n",
    "- A deep copy creates a new object and recursively copies the elements from the original object into the new object.\n",
    "- It creates a completely independent copy where changes made to the copy do not affect the original object, and vice versa.\n",
    "- The deepcopy() method from the copy module is used to create deep copies of objects."
   ]
  },
  {
   "cell_type": "code",
   "execution_count": 2,
   "id": "e99d8b35",
   "metadata": {},
   "outputs": [
    {
     "name": "stdout",
     "output_type": "stream",
     "text": [
      "[1, 2, 3, [4, 5]]\n",
      "[1, 2, 3, [4, 5]]\n",
      "[1, 2, 3, [4, 5]]\n",
      "[1, 2, 3, [4, 5, 6]]\n"
     ]
    }
   ],
   "source": [
    "import copy\n",
    "\n",
    "original_list = [1, 2, 3, [4, 5]]\n",
    "deep_copy = copy.deepcopy(original_list)\n",
    "\n",
    "print(original_list)    \n",
    "print(deep_copy)         \n",
    "\n",
    "# Modifying an element in the deep copy\n",
    "deep_copy[3].append(6)\n",
    "\n",
    "print(original_list)     \n",
    "print(deep_copy)       \n"
   ]
  },
  {
   "cell_type": "code",
   "execution_count": null,
   "id": "1148bfbb",
   "metadata": {},
   "outputs": [],
   "source": []
  }
 ],
 "metadata": {
  "kernelspec": {
   "display_name": "Python 3 (ipykernel)",
   "language": "python",
   "name": "python3"
  },
  "language_info": {
   "codemirror_mode": {
    "name": "ipython",
    "version": 3
   },
   "file_extension": ".py",
   "mimetype": "text/x-python",
   "name": "python",
   "nbconvert_exporter": "python",
   "pygments_lexer": "ipython3",
   "version": "3.10.7"
  }
 },
 "nbformat": 4,
 "nbformat_minor": 5
}

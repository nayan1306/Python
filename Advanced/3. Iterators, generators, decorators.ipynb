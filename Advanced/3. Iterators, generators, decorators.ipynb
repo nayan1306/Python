{
 "cells": [
  {
   "cell_type": "markdown",
   "id": "68e27bf3",
   "metadata": {},
   "source": [
    "# Iterators\n",
    "> To create an iterator, you need to define a class that implements these two methods:\n",
    "> - The `__iter__()` method returns the iterator object itself. It is called when the iterator is initialized or reset.\n",
    "> - The `__next__()` method returns the next item from the sequence. It is called each time you want to retrieve the next element.\n",
    "\n"
   ]
  },
  {
   "cell_type": "code",
   "execution_count": 1,
   "id": "6f7c9622",
   "metadata": {},
   "outputs": [],
   "source": [
    "class MyRange:\n",
    "    def __init__(self, start, end):\n",
    "        self.start = start\n",
    "        self.end = end\n",
    "\n",
    "    def __iter__(self):\n",
    "        return self\n",
    "\n",
    "    def __next__(self):\n",
    "        if self.start >= self.end:\n",
    "            raise StopIteration\n",
    "        current = self.start\n",
    "        self.start += 1\n",
    "        return current"
   ]
  },
  {
   "cell_type": "code",
   "execution_count": 5,
   "id": "95ab26b7",
   "metadata": {},
   "outputs": [
    {
     "name": "stdout",
     "output_type": "stream",
     "text": [
      "1\n",
      "2\n",
      "3\n",
      "4\n"
     ]
    }
   ],
   "source": [
    "\n",
    "# Using the iterator\n",
    "my_range = MyRange(1, 5)\n",
    "my_iterator = iter(my_range)\n",
    "\n",
    "print(next(my_iterator))  \n",
    "print(next(my_iterator))  \n",
    "print(next(my_iterator))  \n",
    "print(next(my_iterator))  \n"
   ]
  },
  {
   "cell_type": "code",
   "execution_count": 6,
   "id": "a335c166",
   "metadata": {},
   "outputs": [
    {
     "ename": "StopIteration",
     "evalue": "",
     "output_type": "error",
     "traceback": [
      "\u001b[1;31m---------------------------------------------------------------------------\u001b[0m",
      "\u001b[1;31mStopIteration\u001b[0m                             Traceback (most recent call last)",
      "Cell \u001b[1;32mIn [6], line 2\u001b[0m\n\u001b[0;32m      1\u001b[0m \u001b[38;5;66;03m# Trying to access the next element after the sequence is exhausted\u001b[39;00m\n\u001b[1;32m----> 2\u001b[0m \u001b[38;5;28mprint\u001b[39m(\u001b[38;5;28;43mnext\u001b[39;49m\u001b[43m(\u001b[49m\u001b[43mmy_iterator\u001b[49m\u001b[43m)\u001b[49m)\n",
      "Cell \u001b[1;32mIn [1], line 11\u001b[0m, in \u001b[0;36mMyRange.__next__\u001b[1;34m(self)\u001b[0m\n\u001b[0;32m      9\u001b[0m \u001b[38;5;28;01mdef\u001b[39;00m \u001b[38;5;21m__next__\u001b[39m(\u001b[38;5;28mself\u001b[39m):\n\u001b[0;32m     10\u001b[0m     \u001b[38;5;28;01mif\u001b[39;00m \u001b[38;5;28mself\u001b[39m\u001b[38;5;241m.\u001b[39mstart \u001b[38;5;241m>\u001b[39m\u001b[38;5;241m=\u001b[39m \u001b[38;5;28mself\u001b[39m\u001b[38;5;241m.\u001b[39mend:\n\u001b[1;32m---> 11\u001b[0m         \u001b[38;5;28;01mraise\u001b[39;00m \u001b[38;5;167;01mStopIteration\u001b[39;00m\n\u001b[0;32m     12\u001b[0m     current \u001b[38;5;241m=\u001b[39m \u001b[38;5;28mself\u001b[39m\u001b[38;5;241m.\u001b[39mstart\n\u001b[0;32m     13\u001b[0m     \u001b[38;5;28mself\u001b[39m\u001b[38;5;241m.\u001b[39mstart \u001b[38;5;241m+\u001b[39m\u001b[38;5;241m=\u001b[39m \u001b[38;5;241m1\u001b[39m\n",
      "\u001b[1;31mStopIteration\u001b[0m: "
     ]
    }
   ],
   "source": [
    "\n",
    "# Trying to access the next element after the sequence is exhausted\n",
    "print(next(my_iterator))  # Raises StopIteration\n"
   ]
  },
  {
   "cell_type": "markdown",
   "id": "981ff566",
   "metadata": {},
   "source": [
    "# Generators\n",
    "- They are defined using generator functions, which use the `yield` keyword to return values one at a time instead of returning an entire sequence at once.\n",
    "- Generators allow you to iterate over a potentially infinite sequence without the need to store all the values in memory."
   ]
  },
  {
   "cell_type": "code",
   "execution_count": 7,
   "id": "4463dc68",
   "metadata": {},
   "outputs": [
    {
     "name": "stdout",
     "output_type": "stream",
     "text": [
      "0\n",
      "1\n",
      "1\n",
      "2\n",
      "3\n",
      "5\n",
      "8\n",
      "13\n",
      "21\n",
      "34\n"
     ]
    }
   ],
   "source": [
    "def fibonacci_generator():\n",
    "    a, b = 0, 1\n",
    "    while True:\n",
    "        yield a\n",
    "        a, b = b, a + b\n",
    "\n",
    "# Using the generator\n",
    "fib_gen = fibonacci_generator()\n",
    "\n",
    "for _ in range(10):\n",
    "    print(next(fib_gen))\n"
   ]
  },
  {
   "cell_type": "markdown",
   "id": "6d5fbdc9",
   "metadata": {},
   "source": [
    "# Decorators\n",
    "> -  decorators are a way to modify or enhance the behavior of functions or classes without directly modifying their source code. \n",
    "> - Decorators allow you to wrap a function or class with another function, commonly referred to as a decorator function, which can add additional functionality, modify inputs or outputs, or perform actions before or after the wrapped function is called.\n",
    "\n",
    "---\n",
    "\n",
    "Decorators are typically defined using the @decorator_name syntax, where decorator_name is the name of the decorator function. The decorator function takes the target function as an argument, performs its modifications or enhancements, and returns a new function or object."
   ]
  },
  {
   "cell_type": "code",
   "execution_count": 8,
   "id": "c6ced4bb",
   "metadata": {},
   "outputs": [
    {
     "name": "stdout",
     "output_type": "stream",
     "text": [
      "HELLO, WORLD!\n"
     ]
    }
   ],
   "source": [
    "def uppercase_decorator(func):\n",
    "    def wrapper():\n",
    "        result = func()\n",
    "        return result.upper()\n",
    "    return wrapper\n",
    "\n",
    "@uppercase_decorator\n",
    "def greet():\n",
    "    return \"Hello, World!\"\n",
    "\n",
    "print(greet())\n"
   ]
  },
  {
   "cell_type": "code",
   "execution_count": null,
   "id": "ac806c60",
   "metadata": {},
   "outputs": [],
   "source": []
  }
 ],
 "metadata": {
  "kernelspec": {
   "display_name": "Python 3 (ipykernel)",
   "language": "python",
   "name": "python3"
  },
  "language_info": {
   "codemirror_mode": {
    "name": "ipython",
    "version": 3
   },
   "file_extension": ".py",
   "mimetype": "text/x-python",
   "name": "python",
   "nbconvert_exporter": "python",
   "pygments_lexer": "ipython3",
   "version": "3.10.7"
  }
 },
 "nbformat": 4,
 "nbformat_minor": 5
}
